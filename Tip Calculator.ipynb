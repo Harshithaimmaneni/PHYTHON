{
 "cells": [
  {
   "cell_type": "markdown",
   "id": "4cfe65ed",
   "metadata": {},
   "source": [
    "# Tip calculator"
   ]
  },
  {
   "cell_type": "markdown",
   "id": "ecbad8e0",
   "metadata": {},
   "source": [
    "**welcome to the tip calculator**\n",
    "\n",
    "**what was the total bill?124.56**\n",
    "\n",
    "**what percentage tip would you like to give?10,12 or 15**\n",
    "\n",
    "**How many people to split bill?**\n",
    "\n",
    "**Each person should pay how much?**"
   ]
  },
  {
   "cell_type": "code",
   "execution_count": 1,
   "id": "2a2e261b",
   "metadata": {},
   "outputs": [],
   "source": [
    "#if bill was $150.0 and each person splitted between 2 with 12 %  tip\n",
    "#each person should pay 150/2*12.1?\n",
    "#round the result to two decimal places=33.60"
   ]
  },
  {
   "cell_type": "code",
   "execution_count": 12,
   "id": "4d25d05f",
   "metadata": {},
   "outputs": [
    {
     "name": "stdout",
     "output_type": "stream",
     "text": [
      "Welcome to tip calculator!\n",
      "what was the total bill? $124.56\n",
      "How much would you like to give? 10,12, or 15?12\n",
      "How many people are splitting the bill?2\n",
      "each person should pay: $69.75\n"
     ]
    }
   ],
   "source": [
    "print(\"Welcome to tip calculator!\")\n",
    "Total_amount=float(input(\"what was the total bill? $\"))\n",
    "Tip=int(input(\"How much would you like to give? 10,12, or 15?\"))\n",
    "people=int(input(\"How many people are splitting the bill?\"))\n",
    "tip_as_per=Tip/100\n",
    "total_tip_amount=Total_amount*tip_as_per\n",
    "total_bill=Total_amount+total_tip_amount\n",
    "bill_per_person=total_bill/people\n",
    "Final_Amount=round(bill_per_person,2)\n",
    "\n",
    "print(f\"each person should pay: ${Final_Amount}\")"
   ]
  },
  {
   "cell_type": "code",
   "execution_count": null,
   "id": "295509ec",
   "metadata": {},
   "outputs": [],
   "source": []
  }
 ],
 "metadata": {
  "kernelspec": {
   "display_name": "Python 3 (ipykernel)",
   "language": "python",
   "name": "python3"
  },
  "language_info": {
   "codemirror_mode": {
    "name": "ipython",
    "version": 3
   },
   "file_extension": ".py",
   "mimetype": "text/x-python",
   "name": "python",
   "nbconvert_exporter": "python",
   "pygments_lexer": "ipython3",
   "version": "3.9.12"
  }
 },
 "nbformat": 4,
 "nbformat_minor": 5
}
